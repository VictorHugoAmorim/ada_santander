{
  "nbformat": 4,
  "nbformat_minor": 0,
  "metadata": {
    "colab": {
      "provenance": []
    },
    "kernelspec": {
      "name": "python3",
      "display_name": "Python 3"
    },
    "language_info": {
      "name": "python"
    }
  },
  "cells": [
    {
      "cell_type": "markdown",
      "source": [
        "# Projeto Lógica de programação II\n",
        "\n",
        "## Jogo da forca\n",
        "\n",
        "Nome:\n",
        "\n",
        "Turma:\n"
      ],
      "metadata": {
        "id": "TwbDxrN1bF-i"
      }
    },
    {
      "cell_type": "markdown",
      "source": [
        "Nesse projeto iremos focar no conhecimento adquirido durante os módulos de lógica de programação I e II.\n",
        "\n",
        "Utilizaremos as estruturas de dados (tuplas, listas, dicionários) além da lógica de programação (if/else, while, e for), lembre-se das compreensões de listas e dicionários. E utilize as técnicas e algoritmos que achar necessário para realizar o projeto"
      ],
      "metadata": {
        "id": "Z15O64dQbXbQ"
      }
    },
    {
      "cell_type": "markdown",
      "source": [
        "### Dados\n",
        "\n",
        "Será utilizado os dados (dataset) de frutas (`frutas.txt`) disponível em um arquivo separado.\n",
        "\n",
        "Nesse arquivo, cada linha representa uma palavra correspondente a uma fruta distinta."
      ],
      "metadata": {
        "id": "iqZTv5eRbyWe"
      }
    },
    {
      "cell_type": "markdown",
      "source": [
        "### O problema\n",
        "\n",
        "Nesse projeto você deverá desenvolver um programa que permita aceitar ações da pessoa usuária (`input`).\n",
        "\n",
        "Nesse processo, o programa deve selecionar uma palavra aleatória do arquivo `frutas.txt`.\n",
        "\n",
        "A partir da palavra aleatória, crie um jogo da forca, em que a pessoa usuária pode inserir um caracter, e se tiver acerto, a palavra será preenchida. Em caso de erro, será retirada uma \"vida\" da pessoa usuária e o desenho da pessoa na forca deve ser preenchida.\n",
        "\n",
        "Na tela, teremos:\n",
        "- Desenho da forca\n",
        "- Letras já escolhidas\n",
        "- Uma linha mostrando a palavra.\n",
        "  - No inicio cada letra da palavra a ser adivinhada é representada com `_`\n",
        "  - Ao acertar a letra presente na palavra, as posições referentes a essa letra serão substituidas e mostrada para a pessoa usuária.\n",
        "\n",
        "Para auxiliar no desenvolvimento, podemos dividir o projeto nas seguintes fases:\n",
        "- Escolha da palavra aleatória\n",
        "- Representar essa palavra com `_`\n",
        "- Ao acertar uma letra substituir o `_` pela letra nas posições corretas\n",
        "- Ao chegar no máximo de erros, encerrar o jogo\n",
        "- Ao acetar a palavra, finalizar o jogo\n",
        "- Ao errar uma letra, apresentar essas para a pessoa usuária\n",
        "- Ao errar uma letra, modificar o desenho da forca\n",
        "\n",
        "### Critérios de avaliação\n",
        "\n",
        "Os seguintes itens serão avaliados:\n",
        "\n",
        "1. Reprodutibilidade do código: seu código será executado e precisa gerar os mesmos resultados apresentados por você;\n",
        "\n",
        "2. Clareza: seu código precisa ser claro e deve existir uma linha de raciocínio direta. Comente o código em pontos que julgar necessário para o entendimento total;\n",
        "\n",
        "3. Utilize funções para melhorar a clareza do código!\n",
        "\n",
        "\n",
        "### Informações gerais\n",
        "\n",
        "- O projeto pode ser desenvolvido em grupo\n",
        "\n",
        "- Pelo github\n",
        "\n",
        "Anexar, na entrega, o código (notebook ou script python) desenvolvido.\n"
      ],
      "metadata": {
        "id": "5rXybo_2cDdo"
      }
    },
    {
      "cell_type": "code",
      "source": [
        "erro_0 = \"\"\"\n",
        "   |-------\n",
        "   |      |\n",
        "   |\n",
        "   |\n",
        "   |\n",
        "   |\n",
        "   |\n",
        "___|___\n",
        "\"\"\"\n",
        "erro_1 = \"\"\"\n",
        "   |-------\n",
        "   |      |\n",
        "   |      _\n",
        "   |     |_|\n",
        "   |\n",
        "   |\n",
        "   |\n",
        "___|___\n",
        "\"\"\"\n",
        "\n",
        "erro_2 = (\"\"\"\n",
        "   |-------\n",
        "   |      |\n",
        "   |      _\n",
        "   |     |_|\n",
        "   |      |\n",
        "   |      |\n",
        "   |\n",
        "___|___\n",
        "\"\"\")\n",
        "\n",
        "erro_3 = (\"\"\"\n",
        "   |-------\n",
        "   |      |\n",
        "   |      _\n",
        "   |     |_|\n",
        "   |    --|\n",
        "   |      |\n",
        "   |\n",
        "___|___\n",
        "\"\"\")\n",
        "\n",
        "erro_4 = (\"\"\"\n",
        "   |-------\n",
        "   |      |\n",
        "   |      _\n",
        "   |     |_|\n",
        "   |    --|--\n",
        "   |      |\n",
        "   |\n",
        "___|___\n",
        "\"\"\")\n",
        "\n",
        "erro_5 = (\"\"\"\n",
        "   |-------\n",
        "   |      |\n",
        "   |      _\n",
        "   |     |_|\n",
        "   |    --|--\n",
        "   |      |\n",
        "   |     /\n",
        "___|___\n",
        "\"\"\")\n",
        "\n",
        "erro_6 = (\"\"\"\n",
        "   |-------\n",
        "   |      |\n",
        "   |      _\n",
        "   |     |_|\n",
        "   |    --|--\n",
        "   |      |\n",
        "   |     / \\\\\n",
        "___|___\n",
        "\"\"\")"
      ],
      "metadata": {
        "id": "dVbfca_tbx1B"
      },
      "execution_count": null,
      "outputs": []
    },
    {
      "cell_type": "code",
      "source": [
        "import os\n",
        "def main():\n",
        "  end = False\n",
        "  while not end:\n",
        "      # for windows\n",
        "      if os.name == 'nt':\n",
        "          _ = os.system('cls')\n",
        "\n",
        "      # for mac and linux(here, os.name is 'posix')\n",
        "      else:\n",
        "          _ = os.system('clear')\n"
      ],
      "metadata": {
        "id": "QnFkylOtbW4l"
      },
      "execution_count": null,
      "outputs": []
    },
    {
      "cell_type": "code",
      "execution_count": null,
      "metadata": {
        "id": "pF7_5BrJ6qO7"
      },
      "outputs": [],
      "source": []
    },
    {
      "cell_type": "code",
      "source": [],
      "metadata": {
        "id": "cNeBAFYdMtpw"
      },
      "execution_count": null,
      "outputs": []
    }
  ]
}