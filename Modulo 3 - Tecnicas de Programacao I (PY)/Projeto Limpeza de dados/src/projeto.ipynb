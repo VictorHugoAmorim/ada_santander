{
 "cells": [
  {
   "cell_type": "code",
   "execution_count": 2,
   "metadata": {},
   "outputs": [],
   "source": [
    "import csv \n",
    "import pandas as pd\n",
    "import numpy as np\n",
    "from datetime import datetime "
   ]
  },
  {
   "cell_type": "code",
   "execution_count": 14,
   "metadata": {},
   "outputs": [],
   "source": [
    "#Diretórios\n",
    "DIR_ESCOLAS = r'..\\arquivos csv\\escolas.csv'\n",
    "DIR_MATERIAL_DIDATICO = r'..\\arquivos csv\\material_didatico.csv'\n",
    "DIR_SUB_PREFEITURAS = r'..\\arquivos csv\\subprefeituras.csv'"
   ]
  },
  {
   "cell_type": "code",
   "execution_count": 17,
   "metadata": {},
   "outputs": [],
   "source": [
    "#Importações\n",
    "escolas = pd.read_csv(DIR_ESCOLAS)\n",
    "material_didatico = pd.read_csv(DIR_MATERIAL_DIDATICO)\n",
    "sub_prefeituras = pd.read_csv(DIR_SUB_PREFEITURAS)"
   ]
  },
  {
   "cell_type": "code",
   "execution_count": 16,
   "metadata": {},
   "outputs": [
    {
     "data": {
      "text/html": [
       "<div>\n",
       "<style scoped>\n",
       "    .dataframe tbody tr th:only-of-type {\n",
       "        vertical-align: middle;\n",
       "    }\n",
       "\n",
       "    .dataframe tbody tr th {\n",
       "        vertical-align: top;\n",
       "    }\n",
       "\n",
       "    .dataframe thead th {\n",
       "        text-align: right;\n",
       "    }\n",
       "</style>\n",
       "<table border=\"1\" class=\"dataframe\">\n",
       "  <thead>\n",
       "    <tr style=\"text-align: right;\">\n",
       "      <th></th>\n",
       "      <th>id</th>\n",
       "      <th>Escolas_Postos</th>\n",
       "      <th>BAIRRO</th>\n",
       "      <th>ENDEREÇO</th>\n",
       "      <th>lat</th>\n",
       "      <th>lon</th>\n",
       "    </tr>\n",
       "  </thead>\n",
       "  <tbody>\n",
       "    <tr>\n",
       "      <th>0</th>\n",
       "      <td>178</td>\n",
       "      <td>CENTRO INTEGRADO DE EDUCAÇÃO PÚBLICA HENFIL</td>\n",
       "      <td>CAJU</td>\n",
       "      <td>Rua Carlos Seidl S/Nº</td>\n",
       "      <td>-22,880888</td>\n",
       "      <td>-43,225326</td>\n",
       "    </tr>\n",
       "    <tr>\n",
       "      <th>1</th>\n",
       "      <td>634</td>\n",
       "      <td>EM ALICE DO AMARAL PEIXOTO</td>\n",
       "      <td>BENFICA</td>\n",
       "      <td>Rua Ébano 187</td>\n",
       "      <td>-22,889574</td>\n",
       "      <td>-43,236202</td>\n",
       "    </tr>\n",
       "    <tr>\n",
       "      <th>2</th>\n",
       "      <td>483</td>\n",
       "      <td>EM CELESTINO SILVA</td>\n",
       "      <td>CENTRO</td>\n",
       "      <td>R. do Lavradio, 56</td>\n",
       "      <td>-22,909293</td>\n",
       "      <td>-43,183579</td>\n",
       "    </tr>\n",
       "    <tr>\n",
       "      <th>3</th>\n",
       "      <td>476</td>\n",
       "      <td>ESCOLA MUNICIPAL FLORIANO PEIXOTO</td>\n",
       "      <td>SÃO CRISTÓVÃO</td>\n",
       "      <td>Praça Argentina 20</td>\n",
       "      <td>-22,897629</td>\n",
       "      <td>-43,227456</td>\n",
       "    </tr>\n",
       "    <tr>\n",
       "      <th>4</th>\n",
       "      <td>132</td>\n",
       "      <td>EM PEREIRA PASSOS</td>\n",
       "      <td>RIO COMPRIDO</td>\n",
       "      <td>Praça Condessa Paulo de Frontin 45</td>\n",
       "      <td>-22,924412</td>\n",
       "      <td>-43,208579</td>\n",
       "    </tr>\n",
       "  </tbody>\n",
       "</table>\n",
       "</div>"
      ],
      "text/plain": [
       "    id                               Escolas_Postos         BAIRRO  \\\n",
       "0  178  CENTRO INTEGRADO DE EDUCAÇÃO PÚBLICA HENFIL           CAJU   \n",
       "1  634                   EM ALICE DO AMARAL PEIXOTO        BENFICA   \n",
       "2  483                           EM CELESTINO SILVA         CENTRO   \n",
       "3  476            ESCOLA MUNICIPAL FLORIANO PEIXOTO  SÃO CRISTÓVÃO   \n",
       "4  132                            EM PEREIRA PASSOS   RIO COMPRIDO   \n",
       "\n",
       "                            ENDEREÇO          lat         lon  \n",
       "0               Rua Carlos Seidl S/Nº  -22,880888  -43,225326  \n",
       "1                       Rua Ébano 187  -22,889574  -43,236202  \n",
       "2                  R. do Lavradio, 56  -22,909293  -43,183579  \n",
       "3                  Praça Argentina 20  -22,897629  -43,227456  \n",
       "4  Praça Condessa Paulo de Frontin 45  -22,924412  -43,208579  "
      ]
     },
     "execution_count": 16,
     "metadata": {},
     "output_type": "execute_result"
    }
   ],
   "source": [
    "escolas.head()"
   ]
  },
  {
   "cell_type": "code",
   "execution_count": null,
   "metadata": {},
   "outputs": [],
   "source": []
  }
 ],
 "metadata": {
  "kernelspec": {
   "display_name": "pyspark-env",
   "language": "python",
   "name": "python3"
  },
  "language_info": {
   "codemirror_mode": {
    "name": "ipython",
    "version": 3
   },
   "file_extension": ".py",
   "mimetype": "text/x-python",
   "name": "python",
   "nbconvert_exporter": "python",
   "pygments_lexer": "ipython3",
   "version": "3.9.13"
  },
  "orig_nbformat": 4
 },
 "nbformat": 4,
 "nbformat_minor": 2
}
