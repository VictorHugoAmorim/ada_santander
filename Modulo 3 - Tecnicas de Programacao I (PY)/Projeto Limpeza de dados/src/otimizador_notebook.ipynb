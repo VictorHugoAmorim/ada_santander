{
 "cells": [
  {
   "cell_type": "code",
   "execution_count": 1,
   "metadata": {},
   "outputs": [],
   "source": [
    "import pandas as pd\n",
    "import numpy as np\n",
    "from itertools import permutations\n",
    "from haversine import haversine\n",
    "from matplotlib import pyplot as plt\n",
    "\n",
    "class rotas:\n",
    "\n",
    "    def __init__(self, dataframe):\n",
    "        self.dataframe = dataframe.reset_index()\n",
    "        self.qtd_escolas = len(self.dataframe)\n",
    "        self.lista_index = list(self.dataframe.index)\n",
    "        self._tabela_de_distancia = self.tabela_de_distancia\n",
    "        self._lista_de_rotas_possiveis = self.lista_de_rotas_possiveis\n",
    "        self._lista_de_distancias_por_rota = self.lista_de_distancias_por_rota\n",
    "        self._melhor_rota = self.melhor_rota\n",
    "        self._pior_rota = self.pior_rota\n",
    "        plt.xlabel(\"Latitude\") \n",
    "        plt.ylabel(\"Longitude\") \n",
    "\n",
    "\n",
    "    @property\n",
    "    def tabela_de_distancia(self):\n",
    "        matrix = np.zeros( ( self.qtd_escolas , self.qtd_escolas ) )\n",
    "        for i,n_lin in enumerate(self.dataframe.index):\n",
    "            for j,n_col in enumerate(self.dataframe.index):\n",
    "                p1x = float(self.dataframe.at[n_lin,\"lat\"].replace(\",\",\".\"))\n",
    "                p1y = float(self.dataframe.at[n_lin,\"lon\"].replace(\",\",\".\"))\n",
    "                p2x = float(self.dataframe.at[n_col,\"lat\"].replace(\",\",\".\"))\n",
    "                p2y = float(self.dataframe.at[n_col,\"lon\"].replace(\",\",\".\"))\n",
    "                ponto_1 = ( (p1x,p1y) )\n",
    "                ponto_2 = ( (p2x,p2y) )\n",
    "                dist = haversine(ponto_1,ponto_2)\n",
    "                matrix[i,j] = abs(dist)\n",
    "        return matrix\n",
    "\n",
    "    @property\n",
    "    def lista_de_rotas_possiveis(self) -> list:\n",
    "        perm = permutations(self.lista_index)\n",
    "        return list(perm)\n",
    "    \n",
    "    @property\n",
    "    def lista_de_distancias_por_rota(self):\n",
    "        lista = list()\n",
    "        for rota in self._lista_de_rotas_possiveis:\n",
    "            distancia = 0\n",
    "            for i in range(len(rota)-1):\n",
    "                escola_a = rota[i]\n",
    "                escola_b = rota[i+1]\n",
    "                distancia += self._tabela_de_distancia[ escola_a , escola_b ]\n",
    "            lista.append(distancia)\n",
    "        return lista\n",
    "\n",
    "    def distancia(self, qual_rota) -> list:\n",
    "        index = self._lista_de_rotas_possiveis.index( qual_rota )\n",
    "        return self._lista_de_distancias_por_rota[index]\n",
    "\n",
    "    @property\n",
    "    def melhor_rota(self) -> list:\n",
    "        index = self._lista_de_distancias_por_rota.index( min(self._lista_de_distancias_por_rota) )\n",
    "        return self._lista_de_rotas_possiveis[index]\n",
    "\n",
    "    @property\n",
    "    def pior_rota(self) -> list:\n",
    "        index = self._lista_de_distancias_por_rota.index( max(self._lista_de_distancias_por_rota) )\n",
    "        return self._lista_de_rotas_possiveis[index]\n",
    "\n",
    "    def sequencia_de_coordenadas(self , rota_lista_idx:list)->list:\n",
    "        lista = list()\n",
    "        for idx in rota_lista_idx:\n",
    "            lat = float(self.dataframe.at[idx,\"lat\"].replace(\",\",\".\"))\n",
    "            lon = float(self.dataframe.at[idx,\"lon\"].replace(\",\",\".\"))\n",
    "            coord = [ lat , lon ]\n",
    "            lista.append(coord)\n",
    "        return lista\n",
    "\n",
    "    def ordenar_por(self, rota_lista_idx:list):\n",
    "        dataframe_final = self.dataframe.copy()\n",
    "        dataframe_final['ordem_entrega'] = \"\"\n",
    "        for idx in self.lista_index:\n",
    "            dataframe_final.at[idx,\"ordem_entrega\"] = str(rota_lista_idx.index(idx))\n",
    "        dataframe_final = dataframe_final.sort_values(\"ordem_entrega\")\n",
    "        return dataframe_final\n",
    "\n",
    "    def plot_rota(self,rota_lista_de_index:list=[]):\n",
    "        plt.title(\"Coordenadas das escolas\") \n",
    "        for i in self.lista_index:\n",
    "            x = float(self.dataframe.at[i,\"lat\"].replace(\",\",\".\"))\n",
    "            y = float(self.dataframe.at[i,\"lon\"].replace(\",\",\".\"))\n",
    "            plt.plot( x , y ,'ro')\n",
    "        if rota_lista_de_index:\n",
    "            lista_coordenadas = self.sequencia_de_coordenadas(rota_lista_de_index)\n",
    "            for i in range(len(lista_coordenadas)-1):\n",
    "                p1 = list(lista_coordenadas[i])\n",
    "                p2 = list(lista_coordenadas[i+1])\n",
    "\n",
    "                o1 = [ p1[0] , p2[0] ]\n",
    "                o2 = [ p1[1] , p2[1] ]\n",
    "\n",
    "                plt.plot( o1 , o2 )\n",
    "        return plt.show()\n"
   ]
  },
  {
   "cell_type": "code",
   "execution_count": null,
   "metadata": {},
   "outputs": [],
   "source": [
    "df = pd.read_csv(r'src/rota_a_ser_seguida.csv')\n",
    "df = df.drop((range(2,125))) # Convem reduzir o tamanho da tabela\n",
    "print('df.index')\n",
    "print(df.index)\n",
    "rota = rotas(df)\n",
    "print('dataframe')\n",
    "print(rota.dataframe)"
   ]
  },
  {
   "cell_type": "code",
   "execution_count": null,
   "metadata": {},
   "outputs": [],
   "source": [
    "rota.tabela_de_distancia"
   ]
  },
  {
   "cell_type": "code",
   "execution_count": null,
   "metadata": {},
   "outputs": [],
   "source": [
    "rota.lista_de_rotas_possiveis"
   ]
  },
  {
   "cell_type": "code",
   "execution_count": null,
   "metadata": {},
   "outputs": [],
   "source": [
    "rota.lista_de_distancias_por_rota\n"
   ]
  },
  {
   "cell_type": "markdown",
   "metadata": {},
   "source": [
    "---------------------"
   ]
  },
  {
   "cell_type": "code",
   "execution_count": null,
   "metadata": {},
   "outputs": [],
   "source": [
    "# sequencia de ID das escolas em ordem\n",
    "rota.melhor_rota"
   ]
  },
  {
   "cell_type": "code",
   "execution_count": null,
   "metadata": {},
   "outputs": [],
   "source": [
    "# sequencia_de_coordenadas\n",
    "rota.sequencia_de_coordenadas(rota.melhor_rota)"
   ]
  },
  {
   "cell_type": "code",
   "execution_count": null,
   "metadata": {},
   "outputs": [],
   "source": [
    "# Planilha ordenada pela ordem\n",
    "rota.ordenar_por(rota.melhor_rota)"
   ]
  },
  {
   "cell_type": "code",
   "execution_count": null,
   "metadata": {},
   "outputs": [],
   "source": [
    "# Plot da melhor rota\n",
    "rota.plot_rota(rota.melhor_rota)"
   ]
  },
  {
   "cell_type": "code",
   "execution_count": null,
   "metadata": {},
   "outputs": [],
   "source": [
    "# Plot pior rota\n",
    "rota.plot_rota(rota.pior_rota)"
   ]
  }
 ],
 "metadata": {
  "kernelspec": {
   "display_name": "Python 3",
   "language": "python",
   "name": "python3"
  },
  "language_info": {
   "codemirror_mode": {
    "name": "ipython",
    "version": 3
   },
   "file_extension": ".py",
   "mimetype": "text/x-python",
   "name": "python",
   "nbconvert_exporter": "python",
   "pygments_lexer": "ipython3",
   "version": "3.11.2"
  },
  "orig_nbformat": 4
 },
 "nbformat": 4,
 "nbformat_minor": 2
}
