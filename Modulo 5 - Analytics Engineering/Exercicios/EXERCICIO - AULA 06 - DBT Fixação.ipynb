{
 "cells": [
  {
   "cell_type": "markdown",
   "metadata": {
    "application/vnd.databricks.v1+cell": {
     "cellMetadata": {},
     "inputWidgets": {},
     "nuid": "8817dab0-31dd-45ec-9ba3-c6c342da6f33",
     "showTitle": false,
     "title": ""
    }
   },
   "source": [
    "## Exercício\n",
    "\n",
    "Nós como membros de uma das equipes de análise da ANP, ficamos responsáveis por criar um modelo utilizando DBT que nos retorne a média de preços por combustível em três capitais de sua escolha.\n",
    "\n",
    "Lembrando que:\n",
    "\n",
    "- Os dados raw, serão carregados pela função disponível abaixo\n",
    "- Você deverá realizar a preparação inicial dos dados em uma camada silver\n",
    "- O modelo resultante com as médias, deverão pertencer a uma camada gold, então atente-se a organização de seu projeto\n",
    "\n",
    "A função SQL para obtenção da média é a função AVG e os demais campos deverão estar em uma instrução GROUP BY, mais detalhes podem ser consultados aqui: https://www.postgresql.org/docs/8.2/functions-aggregate.html"
   ]
  },
  {
   "cell_type": "markdown",
   "metadata": {
    "application/vnd.databricks.v1+cell": {
     "cellMetadata": {},
     "inputWidgets": {},
     "nuid": "d2608f93-3dd6-4212-a225-3e4f67210212",
     "showTitle": false,
     "title": ""
    }
   },
   "source": [
    "## Criação do Dataset Inicial"
   ]
  },
  {
   "cell_type": "code",
   "execution_count": 0,
   "metadata": {
    "application/vnd.databricks.v1+cell": {
     "cellMetadata": {},
     "inputWidgets": {},
     "nuid": "a0c866b7-0073-4f5d-afe6-8f66ddc138ed",
     "showTitle": false,
     "title": ""
    }
   },
   "outputs": [],
   "source": [
    "import urllib.request\n",
    "urllib.request.urlretrieve(\"https://www.gov.br/anp/pt-br/centrais-de-conteudo/dados-abertos/arquivos/shpc/dsan/2023/precos-gasolina-etanol-08.csv\",\"/tmp/precos-gasolina-etanol-08.csv\")\n",
    "dbutils.fs.mkdirs(\"dbfs:/aula-04-datalake/bronze\")\n",
    "dbutils.fs.mv(\"file:/tmp/precos-gasolina-etanol-08.csv\",\"dbfs:/aula-04-datalake/bronze/precos-gasolina-etanol-08.csv\")"
   ]
  },
  {
   "cell_type": "code",
   "execution_count": 0,
   "metadata": {
    "application/vnd.databricks.v1+cell": {
     "cellMetadata": {},
     "inputWidgets": {},
     "nuid": "a59ee284-ef79-4720-b649-4a772039a74c",
     "showTitle": false,
     "title": ""
    }
   },
   "outputs": [],
   "source": [
    "from pyspark.sql import SparkSession\n",
    "\n",
    "spark = (\n",
    "    SparkSession.builder.appName(\"Dados Combustível Preparação\").getOrCreate()\n",
    ")"
   ]
  },
  {
   "cell_type": "code",
   "execution_count": 0,
   "metadata": {
    "application/vnd.databricks.v1+cell": {
     "cellMetadata": {},
     "inputWidgets": {},
     "nuid": "dbe339f8-7091-46d5-94a6-66c73a4523cb",
     "showTitle": false,
     "title": ""
    }
   },
   "outputs": [],
   "source": [
    "df_dados = spark.read.option(\"header\", \"true\").option(\"delimiter\", \";\").csv(\"dbfs:/aula-04-datalake/bronze/precos-gasolina-etanol-08.csv\")\n",
    "\n",
    "(\n",
    "    df_dados.write.format(\"jdbc\")\n",
    "        .option(\"driver\", \"org.postgresql.Driver\")\n",
    "        .option(\"url\", \"jdbc:postgresql://seu DB HOST/SEU DB NAME\")\n",
    "        .option(\"user\", \"Seu DB Username\")\n",
    "        .option(\"password\", \"Seu DB Password\")\n",
    "        .option(\"dbtable\", \"preco_combustiveis\")\n",
    "        .save()\n",
    " )"
   ]
  }
 ],
 "metadata": {
  "application/vnd.databricks.v1+notebook": {
   "dashboards": [],
   "language": "python",
   "notebookMetadata": {
    "pythonIndentUnit": 4
   },
   "notebookName": "EXERCICIO - AULA 06 - DBT Fixação",
   "widgets": {}
  }
 },
 "nbformat": 4,
 "nbformat_minor": 0
}
