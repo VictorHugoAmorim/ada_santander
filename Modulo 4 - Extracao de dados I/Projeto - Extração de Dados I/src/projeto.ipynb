{
 "cells": [
  {
   "cell_type": "code",
   "execution_count": 27,
   "metadata": {},
   "outputs": [
    {
     "data": {
      "text/plain": [
       "{'status': 'ok',\n",
       " 'totalResults': 16,\n",
       " 'articles': [{'source': {'id': None, 'name': 'Abril.com.br'},\n",
       "   'author': 'Da Redação',\n",
       "   'title': 'Plataforma virtual ajuda a combater epidemias com inteligência artificial',\n",
       "   'description': 'Proposta desenvolvida por pesquisadores do CeMEAI-USP foi selecionada em chamada lançada por iniciativa internacional',\n",
       "   'url': 'https://veja.abril.com.br/tecnologia/plataforma-virtual-ajuda-a-combater-epidemias-com-inteligencia-artificial',\n",
       "   'urlToImage': 'https://veja.abril.com.br/wp-content/uploads/2017/09/capitular-ia.jpg?quality=90&strip=info&w=680&h=453&crop=1',\n",
       "   'publishedAt': '2023-09-26T16:32:30Z',\n",
       "   'content': 'Como os avanços em inteligência artificial e ciência de dados podem contribuir para o combate à propagação de doenças infecciosas e o aprimoramento da saúde pública em países de baixa e média renda? … [+3112 chars]'}]}"
      ]
     },
     "execution_count": 27,
     "metadata": {},
     "output_type": "execute_result"
    }
   ],
   "source": [
    "from newsapi import NewsApiClient\n",
    "\n",
    "newsapi = NewsApiClient(api_key='9a77398581d74beebbd29dbebd159a53')\n",
    "\n",
    "artigo = newsapi.get_everything(q='genômica',\n",
    "                                      language='pt',\n",
    "                                      sort_by='publishedAt',\n",
    "                                      page_size=1)\n",
    "\n",
    "artigo"
   ]
  }
 ],
 "metadata": {
  "kernelspec": {
   "display_name": "pyspark-env",
   "language": "python",
   "name": "python3"
  },
  "language_info": {
   "codemirror_mode": {
    "name": "ipython",
    "version": 3
   },
   "file_extension": ".py",
   "mimetype": "text/x-python",
   "name": "python",
   "nbconvert_exporter": "python",
   "pygments_lexer": "ipython3",
   "version": "3.9.13"
  },
  "orig_nbformat": 4
 },
 "nbformat": 4,
 "nbformat_minor": 2
}
