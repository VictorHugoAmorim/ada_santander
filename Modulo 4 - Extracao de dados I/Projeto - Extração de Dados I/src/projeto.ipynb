{
 "cells": [
  {
   "cell_type": "markdown",
   "metadata": {},
   "source": [
    "# Enunciado\n"
   ]
  },
  {
   "cell_type": "markdown",
   "metadata": {},
   "source": [
    "## Projeto - Extração de Dados I\n",
    "------------------------------\n",
    "## Sistema de Monitoramento de Avanços no Campo da Genômica  \n",
    "\n",
    "## Contexto:  \n",
    "O grupo trabalha no time de engenharia de dados na HealthGen, uma empresa especializada em genômica e pesquisa de medicina personalizada. A genômica é o estudo do conjunto completo de genes de um organismo, desempenha um papel fundamental na medicina personalizada e na pesquisa biomédica. Permite a análise do DNA para identificar variantes genéticas e mutações associadas a doenças e facilita a personalização de tratamentos com base nas características genéticas individuais dos pacientes.\n",
    "\n",
    "A empresa precisa se manter atualizada sobre os avanços mais recentes na genômica, identificar oportunidades para pesquisa e desenvolvimento de tratamentos personalizados e acompanhar as tendências em genômica que podem influenciar estratégias de pesquisa e desenvolvimento. Pensando nisso, o time de dados apresentou uma proposta de desenvolvimento de um sistema que coleta, analisa e apresenta as últimas notícias relacionadas à genômica e à medicina personalizada, e também estuda o avanço do campo nos últimos anos.\n",
    "\n",
    "O time de engenharia de dados tem como objetivo desenvolver e garantir um pipeline de dados confiável e estável. As principais atividades são:\n",
    "\n",
    "### 1. Consumo de dados com a News API:  \n",
    "Implementar um mecanismo para consumir dados de notícias de fontes confiáveis e especializadas em genômica e medicina personalizada, a partir da News API:  \n",
    "https://newsapi.org/\n",
    "\n",
    "### 2. Definir Critérios de Relevância:  \n",
    "Desenvolver critérios precisos de relevância para filtrar as notícias. Por exemplo, o time pode se concentrar em notícias que mencionem avanços em sequenciamento de DNA, terapias genéticas personalizadas ou descobertas relacionadas a doenças genéticas específicas.\n",
    "\n",
    "### 3. Cargas em Batches:  \n",
    "Armazenar as notícias relevantes em um formato estruturado e facilmente acessível para consultas e análises posteriores. Essa carga deve acontecer 1 vez por hora. Se as notícias extraídas já tiverem sidos armazenadas na carga anterior, o processo deve ignorar e não armazenar as notícias novamente, os dados carregados não podem ficar duplicados.  \n",
    "![Alt text](image.png)\n",
    "\n",
    "### 4. Dados transformados para consulta do público final  \n",
    "A partir dos dados carregados, aplicar as seguintes transformações e armazenar o resultado final para a consulta do público final:  \n",
    "\n",
    "4.1 - Quantidade de notícias por ano, mês e dia de publicação;  \n",
    "\n",
    "4.2 - Quantidade de notícias por fonte e autor;  \n",
    "\n",
    "4.3 - Quantidade de aparições de 3 palavras chaves por ano, mês e dia de publicação (as 3 palavras chaves serão as mesmas usadas para fazer os filtros de relevância do item 2 (2. Definir Critérios de Relevância)).  \n",
    "\n",
    "Atualizar os dados transformados 1 vez por dia.  \n",
    "\n",
    "![Alt text](image-1.png)\n",
    "\n",
    "----------------------------------------\n",
    "\n",
    "Além das atividades principais, existe a necessidade de busca de dados por eventos em tempo real quando é necessário, para isso foi desenhado duas opções:\n",
    "\n",
    "### Opção 1 - Apache Kafka e Spark Streaming:  \n",
    "\n",
    "Preparar um pipeline com Apache Kafka e Spark Streaming para receber os dados do Produtor Kafka representado por um evento manual e consumir os dados com o Spark Streaming armazenando os resultados temporariamente. Em um processo paralelo, verificar os resultados armazenados temporiamente e armazenar no mesmo destino do item 3 (3. Cargas em Batches) aqueles resultados que ainda não foram armazenados no destino (os dados carregados não podem ficar duplicados). E por fim, eliminar os dados temporários após a verificação e a eventual carga.\n",
    "\n",
    "![Alt text](image-2.png)\n",
    "\n",
    "### Opção 2 - Webhooks com notificações por eventos:  \n",
    "Configurar um webhook para adquirir as últimas notícias a partir de um evento representado por uma requisição POST e fazer a chamada da API e por fim armazenar os resultados temporariamente. Em um processo paralelo, verificar os resultados armazenados temporiamente e armazenar no mesmo destino do item 3 (3. Cargas em Batches) aqueles resultados que ainda não foram armazenados no destino (os dados carregados não podem ficar duplicados). E por fim, eliminar os dados temporários após a verificação e a eventual carga.\n",
    "\n",
    "![Alt text](image-3.png)\n",
    "\n",
    "Atividades que precisam ser realizadas pelo grupo definido em aula.  \n",
    "\n",
    "O grupo precisa construir o pipeline de dados seguindo os requisitos das atividades principais e escolher entre a Opção 1 e Opção 2 para desenvolvimento.  "
   ]
  },
  {
   "cell_type": "markdown",
   "metadata": {},
   "source": [
    "# Resolução"
   ]
  },
  {
   "cell_type": "markdown",
   "metadata": {},
   "source": [
    "## 1 Bibliotecas\n",
    "Para instalar as bibliotecas necessárias do projeto:"
   ]
  },
  {
   "cell_type": "code",
   "execution_count": null,
   "metadata": {
    "vscode": {
     "languageId": "shellscript"
    }
   },
   "outputs": [
    {
     "name": "stdout",
     "output_type": "stream",
     "text": [
      "Defaulting to user installation because normal site-packages is not writeable\n",
      "Requirement already satisfied: requests in c:\\program files (x86)\\anaconda3\\lib\\site-packages (2.28.1)\n",
      "Requirement already satisfied: newsapi-python in c:\\users\\victo\\appdata\\roaming\\python\\python39\\site-packages (0.2.7)\n",
      "Requirement already satisfied: idna<4,>=2.5 in c:\\program files (x86)\\anaconda3\\lib\\site-packages (from requests) (3.3)\n",
      "Requirement already satisfied: urllib3<1.27,>=1.21.1 in c:\\program files (x86)\\anaconda3\\lib\\site-packages (from requests) (1.26.11)\n",
      "Requirement already satisfied: charset-normalizer<3,>=2 in c:\\program files (x86)\\anaconda3\\lib\\site-packages (from requests) (2.0.4)\n",
      "Requirement already satisfied: certifi>=2017.4.17 in c:\\users\\victo\\appdata\\roaming\\python\\python39\\site-packages (from requests) (2022.12.7)\n",
      "Note: you may need to restart the kernel to use updated packages.\n"
     ]
    }
   ],
   "source": [
    "#pip install requests newsapi-python"
   ]
  },
  {
   "cell_type": "markdown",
   "metadata": {},
   "source": [
    "Para importas as bibliotecas e definir as variáveis necessárias:"
   ]
  },
  {
   "cell_type": "code",
   "execution_count": 28,
   "metadata": {},
   "outputs": [],
   "source": [
    "from newsapi import NewsApiClient\n",
    "import requests\n",
    "import time\n",
    "import pandas as pd\n",
    "from datetime import datetime\n",
    "import re\n",
    "\n",
    "API_KEY = '9a77398581d74beebbd29dbebd159a53'\n",
    "PALAVRAS_CHAVES_GERAIS = 'genômica OR genômico OR genética OR dna'\n",
    "PALAVRAS_CHAVES_ESPECIFICAS = ['sequenciamento', 'terapia', 'doença']"
   ]
  },
  {
   "cell_type": "markdown",
   "metadata": {},
   "source": [
    "## 2 Definições de Funções"
   ]
  },
  {
   "cell_type": "markdown",
   "metadata": {},
   "source": [
    "Abaixo está localizado todas as definições de funções que será usado no projeto:"
   ]
  },
  {
   "cell_type": "code",
   "execution_count": 55,
   "metadata": {},
   "outputs": [],
   "source": [
    "# 1. Consumo de dados com a News API -------------------------------------------------------------------------------------------------\n",
    "\n",
    "## 1 Usando Biblioteca NewsAPI\n",
    "def fazer_a_request_1( API_KEY:str='9a77398581d74beebbd29dbebd159a53' , PALAVRAS_CHAVES:str='genômica' ):\n",
    "    # A função realiza o request com API_KEY e PALAVRAS_CHAVES declaradas e é retornado um json\n",
    "    newsapi = NewsApiClient(api_key=API_KEY)\n",
    "    response_lib = newsapi.get_everything(q=PALAVRAS_CHAVES,\n",
    "                                        language='pt',\n",
    "                                        sort_by='publishedAt'\n",
    "    )\n",
    "    return response_lib\n",
    "\n",
    "## 2 Usando requests\n",
    "def fazer_a_request_2( API_KEY:str='9a77398581d74beebbd29dbebd159a53' , PALAVRAS_CHAVES:str='genômica' ):\n",
    "    # A função realiza o request com API_KEY e PALAVRAS_CHAVES declaradas e é retornado um json\n",
    "    url = f'https://newsapi.org/v2/everything?q={PALAVRAS_CHAVES}&language=pt&sortBy=publishedAt&apiKey={API_KEY}'\n",
    "    response_requests = requests.get(url).json()\n",
    "    return response_requests\n",
    "\n",
    "\n",
    "\n",
    "# 2. Definir Critérios de Relevância -------------------------------------------------------------------------------------------------\n",
    "\n",
    "def tratar_dados(json_de_noticias, palavras_chave_filtragem) -> pd.DataFrame:\n",
    "    df = pd.json_normalize(json_de_noticias['articles'])\n",
    "    df['publishedAt'] = pd.to_datetime(df['publishedAt']).dt.tz_localize(None) # inserido, pq linha abaixo estava dando erro \"TypeError: Cannot use .astype to convert from timezone-aware dtype to timezone-naive dtype\"\n",
    "    df['publishedAt'] = df['publishedAt'].astype('datetime64[ms]')\n",
    "    df.fillna(\"desconhecido\", inplace=True)\n",
    "    \n",
    "    # Criar um padrão de filtragem válido a partir da lista de palavras-chave (evita erros com caracteres especiais)\n",
    "    padrao_filtragem = '|'.join(map(re.escape, palavras_chave_filtragem))\n",
    "\n",
    "    # Filtrar os resultados com base nas palavras-chave de filtragem\n",
    "    df_filtrado = df[df['description'].str.contains(padrao_filtragem, case=False)]\n",
    "\n",
    "    return df_filtrado\n",
    "\n",
    "\n",
    "\n",
    "# 3. Cargas em Batches: ---------------------------------------------------------------------------------------------------------------\n",
    "\n",
    "def armazenar_noticias(df) -> None:\n",
    "    # Recebe o dataframe para ser armazenado, verificar se há alguma notifica repetida e descarta, por fim armazena.\n",
    "    pass\n",
    "\n",
    "def carrega_armazenamento():\n",
    "    # Abre o armazenamentos dos dados coletados e os retonar em dataframe\n",
    "    pass\n",
    "\n",
    "\n",
    "\n",
    "# 4. Dados transformados para consulta do público final ------------------------------------------------------------------------------\n",
    "\n",
    "def qtd_noticia_ano_mes_dia(df_inteiro):\n",
    "    pass\n",
    "\n",
    "def qtd_noticia_fonte_autor(df_inteiro):\n",
    "    pass\n",
    "\n",
    "def qtd_aparicao_palavras_chaves(df_inteiro):\n",
    "    pass\n",
    "\n",
    "def armazenar_dados_estatisticos(A,B,C):\n",
    "    pass"
   ]
  },
  {
   "cell_type": "markdown",
   "metadata": {},
   "source": [
    "## 3 Teste"
   ]
  },
  {
   "cell_type": "code",
   "execution_count": 53,
   "metadata": {},
   "outputs": [
    {
     "name": "stdout",
     "output_type": "stream",
     "text": [
      "Chaves retornadas: dict_keys(['status', 'totalResults', 'articles'])\n",
      "Status: ok\n",
      "Total de resultados: 18\n",
      "Exemplo de artigo: {'source': {'id': None, 'name': 'Terra.com.br'}, 'author': 'Ansa', 'title': 'Variante Pirola da Covid-19 não é mais perigosa, diz estudo ítalo-brasileiro', 'description': 'O primeiro exemplar da variante Pirola da Covid-19 não tem características que levantam grandes ...', 'url': 'https://www.terra.com.br/byte/ciencia/variante-pirola-da-covid-19-nao-e-mais-perigosa-diz-estudo-italo-brasileiro,69e814ba7c1a78074c8055d4d33f0717goq5sbbc.html', 'urlToImage': 'https://s1.trrsf.com/fe/zaz-mod-t360-icons/svg/logos/terra-16x9-borda.png', 'publishedAt': '2023-09-27T17:49:03Z', 'content': 'O primeiro exemplar da variante Pirola da Covid-19 não tem características que levantam grandes preocupações. Essa foi a conclusão de uma análise genética sobre a cepa (BA.2.86.1). \\r\\nO trabalho, que … [+1758 chars]'}\n"
     ]
    }
   ],
   "source": [
    "# Instanciar objeto\n",
    "response = fazer_a_request_1()\n",
    "# Exibir chaves do dicionário\n",
    "print(f'Chaves retornadas: {response.keys()}')\n",
    "# Valores do dicionário\n",
    "print(f\"Status: {response['status']}\")\n",
    "print(f\"Total de resultados: {response['totalResults']}\")\n",
    "print(f\"Exemplo de artigo: {response['articles'][0]}\")"
   ]
  },
  {
   "cell_type": "code",
   "execution_count": 57,
   "metadata": {},
   "outputs": [
    {
     "name": "stdout",
     "output_type": "stream",
     "text": [
      "True\n"
     ]
    },
    {
     "data": {
      "text/html": [
       "<div>\n",
       "<style scoped>\n",
       "    .dataframe tbody tr th:only-of-type {\n",
       "        vertical-align: middle;\n",
       "    }\n",
       "\n",
       "    .dataframe tbody tr th {\n",
       "        vertical-align: top;\n",
       "    }\n",
       "\n",
       "    .dataframe thead th {\n",
       "        text-align: right;\n",
       "    }\n",
       "</style>\n",
       "<table border=\"1\" class=\"dataframe\">\n",
       "  <thead>\n",
       "    <tr style=\"text-align: right;\">\n",
       "      <th></th>\n",
       "      <th>author</th>\n",
       "      <th>title</th>\n",
       "      <th>description</th>\n",
       "      <th>url</th>\n",
       "      <th>urlToImage</th>\n",
       "      <th>publishedAt</th>\n",
       "      <th>content</th>\n",
       "      <th>source.id</th>\n",
       "      <th>source.name</th>\n",
       "    </tr>\n",
       "  </thead>\n",
       "  <tbody>\n",
       "    <tr>\n",
       "      <th>0</th>\n",
       "      <td>Ansa</td>\n",
       "      <td>Variante Pirola da Covid-19 não é mais perigos...</td>\n",
       "      <td>O primeiro exemplar da variante Pirola da Covi...</td>\n",
       "      <td>https://www.terra.com.br/byte/ciencia/variante...</td>\n",
       "      <td>https://s1.trrsf.com/fe/zaz-mod-t360-icons/svg...</td>\n",
       "      <td>2023-09-27 17:49:03</td>\n",
       "      <td>O primeiro exemplar da variante Pirola da Covi...</td>\n",
       "      <td>desconhecido</td>\n",
       "      <td>Terra.com.br</td>\n",
       "    </tr>\n",
       "    <tr>\n",
       "      <th>1</th>\n",
       "      <td>Ansa</td>\n",
       "      <td>Variante Pirola não é mais perigosa, diz estud...</td>\n",
       "      <td>O primeiro exemplar da variante Pirola da Covi...</td>\n",
       "      <td>https://www.terra.com.br/byte/ciencia/variante...</td>\n",
       "      <td>https://s1.trrsf.com/fe/zaz-mod-t360-icons/svg...</td>\n",
       "      <td>2023-09-27 17:46:03</td>\n",
       "      <td>O primeiro exemplar da variante Pirola da Covi...</td>\n",
       "      <td>desconhecido</td>\n",
       "      <td>Terra.com.br</td>\n",
       "    </tr>\n",
       "  </tbody>\n",
       "</table>\n",
       "</div>"
      ],
      "text/plain": [
       "  author                                              title  \\\n",
       "0   Ansa  Variante Pirola da Covid-19 não é mais perigos...   \n",
       "1   Ansa  Variante Pirola não é mais perigosa, diz estud...   \n",
       "\n",
       "                                         description  \\\n",
       "0  O primeiro exemplar da variante Pirola da Covi...   \n",
       "1  O primeiro exemplar da variante Pirola da Covi...   \n",
       "\n",
       "                                                 url  \\\n",
       "0  https://www.terra.com.br/byte/ciencia/variante...   \n",
       "1  https://www.terra.com.br/byte/ciencia/variante...   \n",
       "\n",
       "                                          urlToImage         publishedAt  \\\n",
       "0  https://s1.trrsf.com/fe/zaz-mod-t360-icons/svg... 2023-09-27 17:49:03   \n",
       "1  https://s1.trrsf.com/fe/zaz-mod-t360-icons/svg... 2023-09-27 17:46:03   \n",
       "\n",
       "                                             content     source.id  \\\n",
       "0  O primeiro exemplar da variante Pirola da Covi...  desconhecido   \n",
       "1  O primeiro exemplar da variante Pirola da Covi...  desconhecido   \n",
       "\n",
       "    source.name  \n",
       "0  Terra.com.br  \n",
       "1  Terra.com.br  "
      ]
     },
     "execution_count": 57,
     "metadata": {},
     "output_type": "execute_result"
    }
   ],
   "source": [
    "# prova real que ambos os metodos de request dão o mesmo resultado\n",
    "print(fazer_a_request_1() == fazer_a_request_2())\n",
    "df = tratar_dados(response, PALAVRAS_CHAVES_ESPECIFICAS)\n",
    "df"
   ]
  },
  {
   "cell_type": "markdown",
   "metadata": {},
   "source": [
    "## 4 Algoritmo"
   ]
  },
  {
   "cell_type": "code",
   "execution_count": 6,
   "metadata": {},
   "outputs": [],
   "source": [
    "from newsapi import NewsApiClient\n",
    "import requests\n",
    "import time\n",
    "\n",
    "API_KEY = '9a77398581d74beebbd29dbebd159a53'\n",
    "PALAVRAS_CHAVES_GERAIS = 'genômica OR genômico OR genética OR dna'\n",
    "INTERVALO = 3600\n",
    "\n",
    "while True:\n",
    "    i = 0\n",
    "\n",
    "    # 1. Consumo de dados com a News API\n",
    "    response = fazer_a_request_1(API_KEY, PALAVRAS_CHAVES_GERAIS)\n",
    "\n",
    "    # 2. Definir Critérios de Relevância\n",
    "    PALAVRAS_CHAVES_ESPECIFICAS = ['sequenciamento', 'terapia', 'doença']\n",
    "    df_agora = tratar_dados( response , PALAVRAS_CHAVES_ESPECIFICAS ) #em andamento\n",
    "\n",
    "    # 3. Cargas em Batches:\n",
    "    armazenar_noticias( df_agora ) # TODO\n",
    "    \n",
    "    # 4. Dados transformados para consulta do público final\n",
    "    if i==23:\n",
    "        df_inteiro = carrega_armazenamento() # TODO\n",
    "        a = qtd_noticia_ano_mes_dia( df_inteiro ) # TODO\n",
    "        b = qtd_noticia_fonte_autor( df_inteiro ) # TODO\n",
    "        c = qtd_aparicao_palavras_chaves( df_inteiro ) # TODO\n",
    "        armazenar_dados_estatisticos( a , b , c ) # TODO\n",
    "        i = 0\n",
    "    else:\n",
    "        i += 1\n",
    "    time.sleep(INTERVALO)\n"
   ]
  },
  {
   "cell_type": "code",
   "execution_count": null,
   "metadata": {},
   "outputs": [],
   "source": []
  }
 ],
 "metadata": {
  "kernelspec": {
   "display_name": "pyspark-env",
   "language": "python",
   "name": "python3"
  },
  "language_info": {
   "codemirror_mode": {
    "name": "ipython",
    "version": 3
   },
   "file_extension": ".py",
   "mimetype": "text/x-python",
   "name": "python",
   "nbconvert_exporter": "python",
   "pygments_lexer": "ipython3",
   "version": "3.9.6"
  },
  "orig_nbformat": 4
 },
 "nbformat": 4,
 "nbformat_minor": 2
}
